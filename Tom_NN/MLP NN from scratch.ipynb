{
 "cells": [
  {
   "cell_type": "code",
   "execution_count": 1,
   "metadata": {
    "collapsed": true
   },
   "outputs": [],
   "source": [
    "import numpy as np\n",
    "import pandas as pd"
   ]
  },
  {
   "cell_type": "markdown",
   "metadata": {},
   "source": [
    "define activation functions"
   ]
  },
  {
   "cell_type": "code",
   "execution_count": 3,
   "metadata": {
    "collapsed": true
   },
   "outputs": [],
   "source": [
    "logistic=lambda x:1/(1+np.exp(-x))\n",
    "\n",
    "d_logistic= lambda result: result/(1-result)"
   ]
  },
  {
   "cell_type": "markdown",
   "metadata": {},
   "source": [
    "### Network classes"
   ]
  },
  {
   "cell_type": "code",
   "execution_count": 4,
   "metadata": {
    "collapsed": false
   },
   "outputs": [
    {
     "ename": "IndentationError",
     "evalue": "expected an indented block (<ipython-input-4-09f8c5d671c1>, line 3)",
     "output_type": "error",
     "traceback": [
      "\u001b[1;36m  File \u001b[1;32m\"<ipython-input-4-09f8c5d671c1>\"\u001b[1;36m, line \u001b[1;32m3\u001b[0m\n\u001b[1;33m    \u001b[0m\n\u001b[1;37m    ^\u001b[0m\n\u001b[1;31mIndentationError\u001b[0m\u001b[1;31m:\u001b[0m expected an indented block\n"
     ]
    }
   ],
   "source": [
    "class HiddenLayer(object):\n",
    "    def __init__(self,n_in, n_out, weights=None,bias=None):\n",
    "        if weights=None:\n",
    "            weights=2*np.random.random((n_in,n_out))-1\n",
    "        if bias=None:\n",
    "            bias=np.zeros((n_out),dtype=np.float64)\n",
    "        self.weights=weights\n",
    "        self.bias=bias\n",
    "        self.output=np.zeros((n_out),dtype=np.float64)\n",
    "        self.inputs=np.zeros((n_in),dtype=np.float64)\n",
    "    def forward_prop(inputs):\n",
    "        ins=self.bias+np.dot(self.weights,inputs)\n",
    "        self.inputs=\n",
    "        self.output = logistic(ins)\n",
    "        return self.output\n",
    "    def backprop(error):\n",
    "        delta=np.dot(error*d_logistic(self.output))\n",
    "        self.weights=\n",
    "        \n",
    "        "
   ]
  },
  {
   "cell_type": "code",
   "execution_count": 6,
   "metadata": {
    "collapsed": false
   },
   "outputs": [],
   "source": [
    "class HiddenLayer(object):\n",
    "    def __init__(self,n_in, n_out, weights=None):\n",
    "        if weights==None:\n",
    "            weights=2*np.random.random((n_in,n_out))-1\n",
    "        #if bias=None:\n",
    "        #    bias=np.zeros((n_out),dtype=np.float64)\n",
    "        self.n_in=n_in\n",
    "        self.n_out=n_out\n",
    "        self.weights=weights\n",
    "        #self.bias=bias\n",
    "        self.output=np.zeros((n_out),dtype=np.float64)\n",
    "        self.inputs=np.zeros((n_in),dtype=np.float64)\n",
    "        self.delta=np.zeros((n_in),dtype=np.float64)\n",
    "        self.error=np.zeros((n_out),dtype=np.float64)\n",
    "    def forward_prop(inputs):\n",
    "        #ins=self.bias+np.dot(self.weights,inputs)\n",
    "        ins=np.dot(self.weights,inputs)\n",
    "        self.inputs=inputs\n",
    "        self.output = logistic(ins)\n",
    "        #return self.output\n",
    "    def backprop(delta):\n",
    "        #delta=np.dot(error*d_logistic(self.output))\n",
    "        self.weights+=self.inputs.T.dot(delta)\n",
    "        self.error=delta.dot(self.weights.T)\n",
    "        self.back_delta=self.error*d_logistic(self.inputs)\n",
    "        #return self.back_delta\n",
    "        \n",
    "        "
   ]
  },
  {
   "cell_type": "code",
   "execution_count": 3,
   "metadata": {
    "collapsed": false
   },
   "outputs": [],
   "source": [
    "class OutputLayer(object):\n",
    "    def __init__(self,y):\n",
    "        if (len(y.shape)>1):\n",
    "            n_in=y.shape[-1]\n",
    "        elif (n_in!=1):\n",
    "            n_in=1\n",
    "        self.n_in=n_in\n",
    "        self.y=y\n",
    "        self.inputs=np.zeros((n_in),dtype=np.float64)\n",
    "    def forward_prop(inputs):\n",
    "        self.inputs=inputs\n",
    "        self.error=self.y-self.inputs\n",
    "        self.back_delta=self.error*d_logistic(self.inputs)\n",
    "        "
   ]
  },
  {
   "cell_type": "code",
   "execution_count": 10,
   "metadata": {
    "collapsed": true
   },
   "outputs": [],
   "source": [
    "class Multi_Layer_Perceptron(object):\n",
    "    def __init__(self,n_layers,features,y,n_hidden_paths=None):\n",
    "        self.features=features\n",
    "        self.n_layers=n_layers\n",
    "        #Set the number of features\n",
    "        if (len(features.shape)>1):\n",
    "            self.n_features=features.shape[-1]\n",
    "        else:\n",
    "            self.n_features=1\n",
    "        #Set the number of output features\n",
    "        if (len(y.shape)>1):\n",
    "            n_out=y.shape[-1]\n",
    "        else:\n",
    "            n_out=1\n",
    "        if n_hidden_paths==None:\n",
    "            n_hidden_paths=n_features+1\n",
    "        #Initialize the layers of the network\n",
    "        if n_layers>2:\n",
    "            self.layers=[HiddenLayer(n_features,n_hidden_paths)]\n",
    "            if n_layers>3:\n",
    "                self.layers.extend([HiddenLayer(n_hidden_paths,n_hidden_paths) for i in xrange(n_layers-3)])\n",
    "            self.layers.extend([HiddenLayer(n_hidden_paths,n_out),OutputLayer(y)])\n",
    "        elif n_layers==2:\n",
    "            self.layers=[HiddenLayer(n_features,n_out),OutputLayer(y)]\n",
    "        else:\n",
    "            raise ValueError('Network must have at least 2 layers, an input and output layer.')\n",
    "    def forward_prop():\n",
    "        self.layers[0].forward_prop(self.features)\n",
    "        for i in xrange(1,self.n_layers):\n",
    "            self.layers[i].forward_prop(self.layers[i-1].output)\n",
    "    def backprop():\n",
    "        for i in reversed(xrange(0,self.n_layers-1)):\n",
    "            self.layers[i].backprop(self.layers[i+1].back_delta)\n",
    "            \n",
    "        "
   ]
  },
  {
   "cell_type": "markdown",
   "metadata": {},
   "source": [
    "### Some test data"
   ]
  },
  {
   "cell_type": "code",
   "execution_count": null,
   "metadata": {
    "collapsed": true
   },
   "outputs": [],
   "source": []
  }
 ],
 "metadata": {
  "kernelspec": {
   "display_name": "Python 2",
   "language": "python",
   "name": "python2"
  },
  "language_info": {
   "codemirror_mode": {
    "name": "ipython",
    "version": 2
   },
   "file_extension": ".py",
   "mimetype": "text/x-python",
   "name": "python",
   "nbconvert_exporter": "python",
   "pygments_lexer": "ipython2",
   "version": "2.7.6"
  }
 },
 "nbformat": 4,
 "nbformat_minor": 0
}
